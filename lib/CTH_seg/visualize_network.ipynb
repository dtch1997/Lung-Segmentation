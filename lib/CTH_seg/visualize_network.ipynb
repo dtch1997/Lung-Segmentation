{
 "metadata": {
  "name": "",
  "signature": "sha256:c096f68683edcfb727b51bc738d7f2c56fa8f28ee5a0cc7e3c5e2aa22c023e41"
 },
 "nbformat": 3,
 "nbformat_minor": 0,
 "worksheets": [
  {
   "cells": [
    {
     "cell_type": "code",
     "collapsed": false,
     "input": [
      "import h5py\n",
      "import mayavi.mlab\n",
      "import matplotlib.pyplot as plt\n",
      "%matplotlib inline\n",
      "import numpy as np\n",
      "from os import listdir,remove,mkdir\n",
      "from os.path import isfile,join,isdir\n",
      "import scipy\n",
      "import scipy.misc\n",
      "import scipy.ndimage\n",
      "import tensorflow as tf\n",
      "import socket\n",
      "import sys\n",
      "import time\n",
      "\n",
      "from utils.layers import *\n",
      "from utils.nets_segmentation3d import *\n",
      "from utils.data import *\n",
      "from utils.ops import *"
     ],
     "language": "python",
     "metadata": {},
     "outputs": [],
     "prompt_number": 1
    },
    {
     "cell_type": "code",
     "collapsed": false,
     "input": [
      "filepath_model = \"/home/dnr/chestCT/model/chestCT.ckpt\"\n",
      "\n",
      "matrix_size = 128\n",
      "num_channels = 1\n",
      "each_bs = 4\n",
      "l2 = 0.000000001\n",
      "l1 = 0.0\n",
      "lr = 0.001"
     ],
     "language": "python",
     "metadata": {},
     "outputs": [],
     "prompt_number": 2
    },
    {
     "cell_type": "code",
     "collapsed": false,
     "input": [
      "xTe_size = [1, matrix_size,matrix_size,matrix_size,num_channels]\n",
      "yTe_size = [1, matrix_size,matrix_size,matrix_size]\n",
      "xTr_size = [each_bs, matrix_size,matrix_size,matrix_size,num_channels]\n",
      "yTr_size = [each_bs, matrix_size,matrix_size,matrix_size]\n",
      "\n",
      "xTe = tf.placeholder(tf.float32, xTe_size)\n",
      "yTe = tf.placeholder(tf.int64, yTe_size)\n",
      "eTe = tf.placeholder(tf.int64, yTe_size)\n",
      "xTr = tf.placeholder(tf.float32, xTr_size)\n",
      "yTr = tf.placeholder(tf.int64, yTr_size)\n",
      "eTr = tf.placeholder(tf.int64, yTr_size)\n",
      "\n",
      "is_training = tf.placeholder_with_default(1, shape=())\n",
      "mask = tf.placeholder(tf.float32, [1,matrix_size,matrix_size,matrix_size,2])"
     ],
     "language": "python",
     "metadata": {},
     "outputs": [],
     "prompt_number": 3
    },
    {
     "cell_type": "code",
     "collapsed": false,
     "input": [
      "exec_statement = \"self_pred = GoogLe_Net(xTe,is_training,2,1)\"\n",
      "exec exec_statement"
     ],
     "language": "python",
     "metadata": {},
     "outputs": [],
     "prompt_number": 4
    },
    {
     "cell_type": "code",
     "collapsed": false,
     "input": [
      "self_L2_loss = get_L2_loss(l2)\n",
      "self_L1_loss = get_L1_loss(l1)\n",
      "self_seg_loss = get_seg_loss(self_pred, yTe, eTe, 2)\n",
      "self_cost = self_seg_loss + self_L2_loss + self_L1_loss\n",
      "self_prob = tf.nn.sigmoid(self_pred[0])\n",
      "optimizer,global_step = get_optimizer(lr, 1.0, 100)\n",
      "grads = optimizer.compute_gradients(self_cost)\n",
      "self_optimizer = optimizer.apply_gradients(grads, global_step=global_step)"
     ],
     "language": "python",
     "metadata": {},
     "outputs": [],
     "prompt_number": 5
    },
    {
     "cell_type": "code",
     "collapsed": false,
     "input": [
      "self_init = tf.global_variables_initializer()\n",
      "self_saver = tf.train.Saver(max_to_keep=None)\n",
      "self_sess = tf.Session(config=tf.ConfigProto(allow_soft_placement=True))"
     ],
     "language": "python",
     "metadata": {},
     "outputs": [],
     "prompt_number": 6
    },
    {
     "cell_type": "code",
     "collapsed": false,
     "input": [
      "self_saver.restore(self_sess, filepath_model)"
     ],
     "language": "python",
     "metadata": {},
     "outputs": [
      {
       "output_type": "stream",
       "stream": "stdout",
       "text": [
        "INFO:tensorflow:Restoring parameters from /home/dnr/chestCT/model/chestCT.ckpt\n"
       ]
      },
      {
       "output_type": "stream",
       "stream": "stderr",
       "text": [
        "INFO:tensorflow:Restoring parameters from /home/dnr/chestCT/model/chestCT.ckpt\n"
       ]
      }
     ],
     "prompt_number": 7
    },
    {
     "cell_type": "code",
     "collapsed": false,
     "input": [
      "ops = self_sess.graph.get_operations()\n",
      "with self_sess.as_default():\n",
      "    W = ops[15].values()[0].eval()\n",
      "W.shape\n",
      "np.save('W.npy', W)"
     ],
     "language": "python",
     "metadata": {},
     "outputs": [],
     "prompt_number": 8
    },
    {
     "cell_type": "code",
     "collapsed": false,
     "input": [
      "i = 11\n",
      "W_show = W[:,:,:,0,i]\n",
      "#fig,ax = plt.subplots(3,3)\n",
      "#plt.rcParams['figure.figsize'] = (10,10)\n",
      "#ax[0,0].imshow(W_show[:,:,0])\n",
      "#ax[0,1].imshow(W_show[:,:,1])\n",
      "#ax[0,2].imshow(W_show[:,:,2])\n",
      "#ax[1,0].imshow(W_show[:,:,3])\n",
      "#ax[1,1].imshow(W_show[:,:,4])\n",
      "#ax[1,2].imshow(W_show[:,:,5])\n",
      "#ax[2,0].imshow(W_show[:,:,6])"
     ],
     "language": "python",
     "metadata": {},
     "outputs": [],
     "prompt_number": 9
    },
    {
     "cell_type": "code",
     "collapsed": false,
     "input": [
      "mayavi.mlab.contour3d(W_show, opacity=0.2, contours=3)"
     ],
     "language": "python",
     "metadata": {},
     "outputs": []
    },
    {
     "cell_type": "code",
     "collapsed": false,
     "input": [],
     "language": "python",
     "metadata": {},
     "outputs": [],
     "prompt_number": 44
    },
    {
     "cell_type": "code",
     "collapsed": false,
     "input": [],
     "language": "python",
     "metadata": {},
     "outputs": []
    }
   ],
   "metadata": {}
  }
 ]
}